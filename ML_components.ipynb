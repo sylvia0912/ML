{
 "cells": [
  {
   "cell_type": "markdown",
   "id": "fb58a935",
   "metadata": {},
   "source": [
    "## ML Components"
   ]
  },
  {
   "cell_type": "markdown",
   "id": "41c64e2d",
   "metadata": {},
   "source": [
    "Developing machine learning applications can be viewed as consisting of three components-\n",
    "\n",
    "1. a representation of data\n",
    "2. an evaluation function (objective functions or loss functions)\n",
    "3. an optimization method to estimate the parameter of the machine learning model."
   ]
  },
  {
   "cell_type": "code",
   "execution_count": null,
   "id": "1b77640a",
   "metadata": {},
   "outputs": [],
   "source": []
  }
 ],
 "metadata": {
  "kernelspec": {
   "display_name": "Python 3 (ipykernel)",
   "language": "python",
   "name": "python3"
  },
  "language_info": {
   "codemirror_mode": {
    "name": "ipython",
    "version": 3
   },
   "file_extension": ".py",
   "mimetype": "text/x-python",
   "name": "python",
   "nbconvert_exporter": "python",
   "pygments_lexer": "ipython3",
   "version": "3.7.7"
  }
 },
 "nbformat": 4,
 "nbformat_minor": 5
}
