{
 "cells": [
  {
   "cell_type": "markdown",
   "id": "76617406",
   "metadata": {},
   "source": [
    "## Stochasticity in ML"
   ]
  },
  {
   "cell_type": "markdown",
   "id": "0c62bf3c",
   "metadata": {},
   "source": [
    "## Machine learning is stochastic, not deterministic\n",
    "\n",
    "Most ML algorithms are stochastic because they make use of randomness during learning. Using randomness is a feature, not a bug. It allows the algorithms to avoid getting stuck and achieve results that deterministic (non-stochastic) algorithms cannot achieve.\n"
   ]
  },
  {
   "cell_type": "markdown",
   "id": "5787ca85",
   "metadata": {},
   "source": [
    "## Deterministic vs Stochastic Algorithms"
   ]
  },
  {
   "cell_type": "markdown",
   "id": "f2ca0215",
   "metadata": {},
   "source": [
    "- A deterministic algorithm is that in which output does not change on different runs. Deterministic algorithm will always give the same outcome given the same input. \n",
    " \n",
    " \n",
    "- PCA would give the same result if we run again, but not k-means.\n",
    "\n",
    "\n",
    "- A non-deterministic algorithm may give different outcomes for the same input.\n",
    "\n",
    "\n",
    "- “stochastic” generally implies that uncertainty about outcomes is quantified in terms of probabilities; a nondeterministic environment is one in which actions are characterized by their possible outcomes, but no probabilities are attached to them.\n",
    "\n",
    "- Many ML algorithms are stochastic because they explicitly use randomness during optimization or learning.\n",
    "\n"
   ]
  },
  {
   "cell_type": "markdown",
   "id": "da756a65",
   "metadata": {},
   "source": [
    "## Why ML is Stochastic ?\n",
    "Source of uncertainty and the nature of stochastic algorithms in machine learning."
   ]
  },
  {
   "cell_type": "markdown",
   "id": "bcffc741",
   "metadata": {},
   "source": [
    "1. The stochastic nature of ML algorithms is most commonly seen on complex and nonlinear methods used for classification and regression predictive modeling problems.These algorithms make use of randomness during the process of constructing a model from the training data which has the effect of fitting a different model each time same algorithm is run on the same data.\n",
    "\n",
    "2. This stochastic behavior of nonlinear machine learning algorithms is challenging for beginners who assume that learning algorithms will be deterministic, e.g. fit the same model when the algorithm is run on the same data.\n",
    "3. Stochastic is a synonym for random and probabilistic, although is different from non-deterministic.Many ML algorithms are stochastic because they explicitly use randomness during optimization or learning.\n",
    "\n"
   ]
  },
  {
   "cell_type": "markdown",
   "id": "cbecb280",
   "metadata": {},
   "source": [
    "**Note**\n",
    "\n",
    "This stochastic behavior requires that the performance of the model must be summarized using summary statistics that describe the mean or expected performance of the model, rather than the performance of the model from any single training run.\n",
    "\n"
   ]
  },
  {
   "cell_type": "code",
   "execution_count": null,
   "id": "4c8cd9ab",
   "metadata": {},
   "outputs": [],
   "source": []
  }
 ],
 "metadata": {
  "kernelspec": {
   "display_name": "Python 3 (ipykernel)",
   "language": "python",
   "name": "python3"
  },
  "language_info": {
   "codemirror_mode": {
    "name": "ipython",
    "version": 3
   },
   "file_extension": ".py",
   "mimetype": "text/x-python",
   "name": "python",
   "nbconvert_exporter": "python",
   "pygments_lexer": "ipython3",
   "version": "3.7.7"
  }
 },
 "nbformat": 4,
 "nbformat_minor": 5
}
