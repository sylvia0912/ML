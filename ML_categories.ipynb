{
 "cells": [
  {
   "cell_type": "markdown",
   "id": "5baa6c1d",
   "metadata": {},
   "source": [
    "## ML Categories"
   ]
  },
  {
   "cell_type": "markdown",
   "id": "75ab43b3",
   "metadata": {},
   "source": [
    "1. Supervised Learning\n",
    "2. Unsupervised Learning\n",
    "3. Reinforcement Learning"
   ]
  },
  {
   "cell_type": "markdown",
   "id": "f1418c7e",
   "metadata": {},
   "source": [
    "## Supervised Learning"
   ]
  },
  {
   "cell_type": "markdown",
   "id": "72dbd7c4",
   "metadata": {},
   "source": [
    "- Supervised learning in ML can be described in terms of **FUNCTION APPROXIMATION**, that is approximating the unknown underlying function that maps examples of inputs to outputs in order to make predictions on new data. Function approximation is solved using function optimization.\n",
    "- **FUNCTION OPTIMIZATION** - Find the set of inputs that results in the minimum or maximum of an objective function. Function optimization is the reason why we minimize error, cost, or loss when fitting a ML algorithm. \n",
    "- It can be challenging as there is often a limited number of examples from which we can approximate the function, and the structure of the function that is being approximated is often nonlinear, noisy, and may even contain contradictions."
   ]
  },
  {
   "cell_type": "markdown",
   "id": "4b9163a3",
   "metadata": {},
   "source": [
    "### Classification and Regression under Supervised Learning"
   ]
  },
  {
   "cell_type": "markdown",
   "id": "05d613f3",
   "metadata": {},
   "source": [
    "- **For classification**, \n",
    "e.g., plot height and weight on x and y, and draw a straight line where most men are on one side and most women are on the other.\n",
    "\n",
    "\n",
    "- **For Regression**,\n",
    "If you plotted all the features PLUS the outcome (numeric) variable, there is a line (or hyperplane) that roughly estimates the outcome. Think the standard line-of-best fit picture, e.g., predicting weight from height."
   ]
  },
  {
   "cell_type": "code",
   "execution_count": null,
   "id": "7db59a20",
   "metadata": {},
   "outputs": [],
   "source": []
  }
 ],
 "metadata": {
  "kernelspec": {
   "display_name": "Python 3 (ipykernel)",
   "language": "python",
   "name": "python3"
  },
  "language_info": {
   "codemirror_mode": {
    "name": "ipython",
    "version": 3
   },
   "file_extension": ".py",
   "mimetype": "text/x-python",
   "name": "python",
   "nbconvert_exporter": "python",
   "pygments_lexer": "ipython3",
   "version": "3.7.7"
  }
 },
 "nbformat": 4,
 "nbformat_minor": 5
}
